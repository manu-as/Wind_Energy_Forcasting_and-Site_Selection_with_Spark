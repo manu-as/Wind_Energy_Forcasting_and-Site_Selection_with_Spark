{
 "cells": [
  {
   "cell_type": "code",
   "execution_count": 4,
   "id": "749cab00",
   "metadata": {},
   "outputs": [],
   "source": [
    "import pandas as pd\n",
    "from sklearn.preprocessing import MinMaxScaler\n"
   ]
  },
  {
   "cell_type": "code",
   "execution_count": 5,
   "id": "b4287b3d",
   "metadata": {},
   "outputs": [],
   "source": [
    "# Load your CSV file\n",
    "df = pd.read_csv('../Dataset/Location1_preprocessed.csv')"
   ]
  },
  {
   "cell_type": "code",
   "execution_count": 6,
   "id": "1b3af064",
   "metadata": {},
   "outputs": [
    {
     "name": "stdout",
     "output_type": "stream",
     "text": [
      "<class 'pandas.core.frame.DataFrame'>\n",
      "RangeIndex: 35125 entries, 0 to 35124\n",
      "Data columns (total 14 columns):\n",
      " #   Column               Non-Null Count  Dtype  \n",
      "---  ------               --------------  -----  \n",
      " 0   Time                 35125 non-null  object \n",
      " 1   temperature_2m       35125 non-null  float64\n",
      " 2   relativehumidity_2m  35125 non-null  int64  \n",
      " 3   dewpoint_2m          35125 non-null  float64\n",
      " 4   windspeed_10m        35125 non-null  float64\n",
      " 5   windspeed_100m       35125 non-null  float64\n",
      " 6   winddirection_10m    35125 non-null  int64  \n",
      " 7   winddirection_100m   35125 non-null  int64  \n",
      " 8   windgusts_10m        35125 non-null  float64\n",
      " 9   Power                35125 non-null  float64\n",
      " 10  Year                 35125 non-null  int64  \n",
      " 11  Month                35125 non-null  int64  \n",
      " 12  Quarter              35125 non-null  int64  \n",
      " 13  Day                  35125 non-null  object \n",
      "dtypes: float64(6), int64(6), object(2)\n",
      "memory usage: 3.8+ MB\n"
     ]
    }
   ],
   "source": [
    "df.info()"
   ]
  },
  {
   "cell_type": "code",
   "execution_count": 62,
   "id": "32694c7b",
   "metadata": {},
   "outputs": [
    {
     "data": {
      "text/plain": [
       "Time                   0\n",
       "temperature_2m         0\n",
       "relativehumidity_2m    0\n",
       "dewpoint_2m            0\n",
       "windspeed_10m          0\n",
       "windspeed_100m         0\n",
       "winddirection_10m      0\n",
       "winddirection_100m     0\n",
       "windgusts_10m          0\n",
       "Power                  0\n",
       "dtype: int64"
      ]
     },
     "execution_count": 62,
     "metadata": {},
     "output_type": "execute_result"
    }
   ],
   "source": [
    "df.isnull().sum()"
   ]
  },
  {
   "cell_type": "code",
   "execution_count": 7,
   "id": "1538a717",
   "metadata": {},
   "outputs": [
    {
     "data": {
      "text/plain": [
       "(35125, 14)"
      ]
     },
     "execution_count": 7,
     "metadata": {},
     "output_type": "execute_result"
    }
   ],
   "source": [
    "df.shape"
   ]
  },
  {
   "cell_type": "code",
   "execution_count": 9,
   "id": "43a9dbc2",
   "metadata": {},
   "outputs": [],
   "source": [
    "df_no_date=df.drop(['Time','Day'],axis=1)\n",
    "correlation_matrix = df_no_date.corr()\n"
   ]
  },
  {
   "cell_type": "code",
   "execution_count": 10,
   "id": "05ef23db",
   "metadata": {},
   "outputs": [],
   "source": [
    "# Select the features with the highest absolute correlation with the target variable\n",
    "target_variable = 'Power'\n",
    "selected_features = correlation_matrix.loc[correlation_matrix.index != target_variable, target_variable].abs().sort_values(ascending=False).index"
   ]
  },
  {
   "cell_type": "code",
   "execution_count": 11,
   "id": "bf8444e0",
   "metadata": {},
   "outputs": [
    {
     "name": "stdout",
     "output_type": "stream",
     "text": [
      "Selected Features:\n",
      "Index(['windspeed_100m', 'windspeed_10m', 'windgusts_10m', 'dewpoint_2m',\n",
      "       'temperature_2m', 'winddirection_100m', 'winddirection_10m',\n",
      "       'relativehumidity_2m', 'Quarter', 'Month', 'Year'],\n",
      "      dtype='object')\n"
     ]
    }
   ],
   "source": [
    "print(\"Selected Features:\")\n",
    "print(selected_features)"
   ]
  }
 ],
 "metadata": {
  "kernelspec": {
   "display_name": "Python 3 (ipykernel)",
   "language": "python",
   "name": "python3"
  },
  "language_info": {
   "codemirror_mode": {
    "name": "ipython",
    "version": 3
   },
   "file_extension": ".py",
   "mimetype": "text/x-python",
   "name": "python",
   "nbconvert_exporter": "python",
   "pygments_lexer": "ipython3",
   "version": "3.11.5"
  }
 },
 "nbformat": 4,
 "nbformat_minor": 5
}
