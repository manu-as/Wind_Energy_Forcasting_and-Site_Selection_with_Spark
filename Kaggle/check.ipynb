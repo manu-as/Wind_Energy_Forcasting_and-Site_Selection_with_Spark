{
 "cells": [
  {
   "cell_type": "code",
   "execution_count": 3,
   "id": "0814c9e7",
   "metadata": {},
   "outputs": [
    {
     "name": "stdout",
     "output_type": "stream",
     "text": [
      "   Wind Direction (°)  Wind Speed (m/s)\n",
      "0                61.9              4.16\n",
      "1                66.1              4.89\n",
      "2                58.7              4.15\n",
      "3                56.3              3.55\n",
      "4                64.4              3.40\n",
      "Combined DataFrame has been saved to combined_data.csv\n"
     ]
    }
   ],
   "source": [
    "import pandas as pd\n",
    "\n",
    "# Replace 'file1.csv' and 'file2.csv' with your actual file paths\n",
    "file1_path = 'DirectionPredicted.csv'\n",
    "file2_path = 'SpeedPredicted.csv'\n",
    "\n",
    "# Read the CSV files into DataFrames with a different encoding\n",
    "df1 = pd.read_csv(file1_path, encoding='ISO-8859-1')\n",
    "df2 = pd.read_csv(file2_path, encoding='ISO-8859-1')\n",
    "\n",
    "# Assuming both DataFrames have the same rows, you can concatenate them horizontally\n",
    "combined_df = pd.concat([df1, df2], axis=1)\n",
    "\n",
    "# Display the combined DataFrame\n",
    "print(combined_df.head())\n",
    "\n",
    "# Save the combined DataFrame to a new CSV file\n",
    "combined_csv_path = 'combined_data.csv'\n",
    "combined_df.to_csv(combined_csv_path, index=False)\n",
    "\n",
    "print(f\"Combined DataFrame has been saved to {combined_csv_path}\")\n"
   ]
  }
 ],
 "metadata": {
  "kernelspec": {
   "display_name": "Python 3 (ipykernel)",
   "language": "python",
   "name": "python3"
  },
  "language_info": {
   "codemirror_mode": {
    "name": "ipython",
    "version": 3
   },
   "file_extension": ".py",
   "mimetype": "text/x-python",
   "name": "python",
   "nbconvert_exporter": "python",
   "pygments_lexer": "ipython3",
   "version": "3.11.5"
  }
 },
 "nbformat": 4,
 "nbformat_minor": 5
}
