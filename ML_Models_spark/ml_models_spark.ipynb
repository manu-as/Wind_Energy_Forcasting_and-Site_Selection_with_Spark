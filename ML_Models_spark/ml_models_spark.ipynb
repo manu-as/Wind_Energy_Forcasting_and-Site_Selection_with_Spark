{
 "cells": [
  {
   "cell_type": "code",
   "execution_count": 1,
   "metadata": {},
   "outputs": [],
   "source": [
    "from pyspark.sql import SparkSession\n",
    "from pyspark.ml.feature import MinMaxScaler\n",
    "from pyspark.ml.regression import RandomForestRegressor, LinearRegression, DecisionTreeRegressor\n",
    "from pyspark.ml.evaluation import RegressionEvaluator\n",
    "from pyspark.ml.tuning import ParamGridBuilder, CrossValidator\n",
    "from pyspark.ml import Pipeline\n",
    "from pyspark.ml.tuning import CrossValidatorModel\n",
    "from pyspark.ml.linalg import Vectors\n",
    "from pyspark.sql.functions import col\n",
    "from pyspark.ml.regression import GBTRegressor\n",
    "from pyspark.ml.feature import VectorAssembler, MinMaxScaler\n",
    "\n",
    "import os"
   ]
  },
  {
   "cell_type": "code",
   "execution_count": 2,
   "metadata": {},
   "outputs": [],
   "source": [
    "# Initialize SparkSession\n",
    "os.environ['SPARK_HOME'] = 'C:/spark-3.5.0-bin-hadoop3'\n",
    "os.environ['PATH'] += 'C:/spark-3.5.0-bin-hadoop3/bin'\n",
    "spark = SparkSession.builder \\\n",
    "    .appName(\"Wind Power Prediction\") \\\n",
    "    .config(\"spark.executor.instances\", \"4\") \\\n",
    "    .config(\"spark.executor.memory\", \"1g\") \\\n",
    "    .config(\"spark.executor.cores\", \"2\") \\\n",
    "    .getOrCreate()\n",
    "\n"
   ]
  },
  {
   "cell_type": "code",
   "execution_count": 3,
   "metadata": {},
   "outputs": [],
   "source": [
    "# Load data\n",
    "df = spark.read.csv('../Dataset/T1.csv', header=True, inferSchema=True)\n"
   ]
  },
  {
   "cell_type": "code",
   "execution_count": 4,
   "metadata": {},
   "outputs": [],
   "source": [
    "# Remove irrelevant columns\n",
    "df = df.drop('Date/Time', 'Theoretical_Power_Curve (KWh)')"
   ]
  },
  {
   "cell_type": "code",
   "execution_count": 5,
   "metadata": {},
   "outputs": [
    {
     "name": "stdout",
     "output_type": "stream",
     "text": [
      "DataFrame[LV ActivePower (kW): double, Wind Speed (m/s): double, Wind Direction (°): double]\n"
     ]
    }
   ],
   "source": [
    "print(df)"
   ]
  },
  {
   "cell_type": "code",
   "execution_count": 6,
   "metadata": {},
   "outputs": [],
   "source": [
    "# Normalize features\n",
    "feature_columns = ['Wind Direction (°)', 'Wind Speed (m/s)']\n",
    "assembler = VectorAssembler(inputCols=feature_columns, outputCol='features')\n",
    "scaler = MinMaxScaler(inputCol='features', outputCol='scaled_features')"
   ]
  },
  {
   "cell_type": "code",
   "execution_count": 7,
   "metadata": {},
   "outputs": [],
   "source": [
    "# Define models\n",
    "models = {\n",
    "    'XGBoost': GBTRegressor(labelCol='LV ActivePower (kW)'),\n",
    "    'Random Forest': RandomForestRegressor(labelCol='LV ActivePower (kW)'),\n",
    "    'Linear Regression': LinearRegression(labelCol='LV ActivePower (kW)'),\n",
    "    'Decision Tree': DecisionTreeRegressor(labelCol='LV ActivePower (kW)')\n",
    "}"
   ]
  },
  {
   "cell_type": "code",
   "execution_count": 8,
   "metadata": {},
   "outputs": [],
   "source": [
    "# Define evaluator\n",
    "evaluator = RegressionEvaluator(labelCol=\"LV ActivePower (kW)\", predictionCol=\"prediction\", metricName=\"r2\")"
   ]
  },
  {
   "cell_type": "code",
   "execution_count": 9,
   "metadata": {},
   "outputs": [],
   "source": [
    "# Split data into train and test sets\n",
    "train_data, test_data = df.randomSplit([0.8, 0.2], seed=42)"
   ]
  },
  {
   "cell_type": "code",
   "execution_count": 10,
   "metadata": {},
   "outputs": [
    {
     "name": "stdout",
     "output_type": "stream",
     "text": [
      "R2-XGBoost: 0.9163568488646847\n",
      "R2-Random Forest: 0.9087736937295984\n",
      "R2-Linear Regression: 0.8335548083227226\n",
      "R2-Decision Tree: 0.9137755646017032\n"
     ]
    }
   ],
   "source": [
    "for name, model in models.items():\n",
    "    pipeline = Pipeline(stages=[assembler, scaler, model])\n",
    "    paramGrid = ParamGridBuilder().build()\n",
    "    crossval = CrossValidator(estimator=pipeline,\n",
    "                              estimatorParamMaps=paramGrid,\n",
    "                              evaluator=evaluator,\n",
    "                              numFolds=5)\n",
    "    cvModel = crossval.fit(train_data)\n",
    "    predictions = cvModel.transform(test_data)\n",
    "    r2 = evaluator.evaluate(predictions)\n",
    "    print(f'R2-{name}: {r2}')"
   ]
  },
  {
   "cell_type": "code",
   "execution_count": 8,
   "metadata": {},
   "outputs": [],
   "source": [
    "# Stop SparkSession\n",
    "spark.stop()"
   ]
  },
  {
   "cell_type": "code",
   "execution_count": 9,
   "metadata": {},
   "outputs": [
    {
     "name": "stdout",
     "output_type": "stream",
     "text": [
      "Requirement already satisfied: findspark in c:\\python311\\lib\\site-packages (2.0.1)\n"
     ]
    },
    {
     "name": "stderr",
     "output_type": "stream",
     "text": [
      "DEPRECATION: Loading egg at c:\\python311\\lib\\site-packages\\vboxapi-1.0-py3.11.egg is deprecated. pip 24.3 will enforce this behaviour change. A possible replacement is to use pip for package installation.. Discussion can be found at https://github.com/pypa/pip/issues/12330\n"
     ]
    }
   ],
   "source": [
    "! pip install findspark"
   ]
  },
  {
   "cell_type": "code",
   "execution_count": 64,
   "metadata": {},
   "outputs": [
    {
     "name": "stdout",
     "output_type": "stream",
     "text": [
      "R2-XGBoost: 0.9155019626655422\n",
      "+-------------------+------------------+\n",
      "|LV ActivePower (kW)|        prediction|\n",
      "+-------------------+------------------+\n",
      "|        306.3765869| 306.4857866645647|\n",
      "|        447.6057129| 493.8577009584026|\n",
      "|        463.6512146|403.58988842417574|\n",
      "|        655.1942749| 586.5081952614954|\n",
      "|        787.2462158| 703.0435799927914|\n",
      "|        1053.771973| 949.4365999335415|\n",
      "|        1021.458008| 809.4933326208605|\n",
      "|        1145.536011|1110.6376703839064|\n",
      "|        1009.533997|  810.746932277874|\n",
      "|         899.492981| 704.2971796498049|\n",
      "|        725.1101074| 589.0563373204445|\n",
      "|        443.9139099|404.84348808118915|\n",
      "|        644.0377808| 589.0563373204445|\n",
      "|         408.997406| 322.5775659473099|\n",
      "|        578.2615967| 496.4058430173516|\n",
      "|        142.2024994| 60.64344500594865|\n",
      "|        250.7559052|222.73630789401986|\n",
      "|        2341.133057|2126.3273042460855|\n",
      "|        2692.929932|2614.1159285101357|\n",
      "|        3062.978027| 3143.654176106143|\n",
      "+-------------------+------------------+\n",
      "only showing top 20 rows\n",
      "\n",
      "R2-Random Forest: 0.9055867702849544\n",
      "+-------------------+------------------+\n",
      "|LV ActivePower (kW)|        prediction|\n",
      "+-------------------+------------------+\n",
      "|        306.3765869| 237.0954408870804|\n",
      "|        447.6057129| 407.0544430642019|\n",
      "|        463.6512146|344.91956533246264|\n",
      "|        655.1942749| 552.2994727192457|\n",
      "|        787.2462158| 721.8250800816646|\n",
      "|        1053.771973| 762.4376027351295|\n",
      "|        1021.458008| 710.4532586246611|\n",
      "|        1145.536011| 891.0069569237094|\n",
      "|        1009.533997| 774.8148843547608|\n",
      "|         899.492981|  728.875235611206|\n",
      "|        725.1101074|476.98431121795295|\n",
      "|        443.9139099|344.91956533246264|\n",
      "|        644.0377808|476.98431121795295|\n",
      "|         408.997406|364.35636361901345|\n",
      "|        578.2615967|376.83552632881566|\n",
      "|        142.2024994|172.75144348458073|\n",
      "|        250.7559052|212.38464075563297|\n",
      "|        2341.133057| 2316.353358333207|\n",
      "|        2692.929932|2565.5245535085896|\n",
      "|        3062.978027| 3179.937647795725|\n",
      "+-------------------+------------------+\n",
      "only showing top 20 rows\n",
      "\n",
      "R2-Linear Regression: 0.835633754660792\n",
      "+-------------------+------------------+\n",
      "|LV ActivePower (kW)|        prediction|\n",
      "+-------------------+------------------+\n",
      "|        306.3765869| 656.3844314036619|\n",
      "|        447.6057129| 819.0742488832277|\n",
      "|        463.6512146| 759.0589352913412|\n",
      "|        655.1942749|  934.189615528911|\n",
      "|        787.2462158|1000.6899724052907|\n",
      "|        1053.771973|1241.2135285148352|\n",
      "|        1021.458008|1146.1509113378092|\n",
      "|        1145.536011|1286.0506365844708|\n",
      "|        1009.533997|1140.0567272960132|\n",
      "|         899.492981|  1026.84307994433|\n",
      "|        725.1101074| 925.9358642780694|\n",
      "|        443.9139099| 719.7261904407715|\n",
      "|        644.0377808| 911.0299124562644|\n",
      "|         408.997406|   583.39808472286|\n",
      "|        578.2615967| 878.7348004930859|\n",
      "|        142.2024994| 319.2930761477853|\n",
      "|        250.7559052| 504.9768834715078|\n",
      "|        2341.133057|1897.1380731574818|\n",
      "|        2692.929932| 2162.342265138103|\n",
      "|        3062.978027|2446.4327902721875|\n",
      "+-------------------+------------------+\n",
      "only showing top 20 rows\n",
      "\n",
      "R2-Decision Tree: 0.9127703745021695\n",
      "+-------------------+------------------+\n",
      "|LV ActivePower (kW)|        prediction|\n",
      "+-------------------+------------------+\n",
      "|        306.3765869| 300.7132222232867|\n",
      "|        447.6057129|488.21884248865376|\n",
      "|        463.6512146|396.91535817897045|\n",
      "|        655.1942749| 577.4466397097216|\n",
      "|        787.2462158| 692.9669161601889|\n",
      "|        1053.771973| 956.6879584138097|\n",
      "|        1021.458008| 814.7866443497944|\n",
      "|        1145.536011|1098.2567473921335|\n",
      "|        1009.533997| 814.7866443497944|\n",
      "|         899.492981| 692.9669161601889|\n",
      "|        725.1101074| 577.4466397097216|\n",
      "|        443.9139099|396.91535817897045|\n",
      "|        644.0377808| 577.4466397097216|\n",
      "|         408.997406| 300.7132222232867|\n",
      "|        578.2615967|488.21884248865376|\n",
      "|        142.2024994| 77.11638899720927|\n",
      "|        250.7559052| 214.9482685039081|\n",
      "|        2341.133057| 2150.852073088646|\n",
      "|        2692.929932| 2520.698435974618|\n",
      "|        3062.978027| 3103.585547910251|\n",
      "+-------------------+------------------+\n",
      "only showing top 20 rows\n",
      "\n"
     ]
    }
   ],
   "source": [
    "from pyspark.sql import SparkSession\n",
    "from pyspark.ml.feature import MinMaxScaler, VectorAssembler\n",
    "from pyspark.ml.regression import RandomForestRegressor, LinearRegression, DecisionTreeRegressor, GBTRegressor\n",
    "from pyspark.ml.evaluation import RegressionEvaluator\n",
    "from pyspark.ml import Pipeline\n",
    "\n",
    "import findspark\n",
    "\n",
    "\n",
    "# Specify the Spark home directory and version\n",
    "findspark.init('C:/spark/spark-3.5.1-bin-hadoop3/spark-3.5.1-bin-hadoop3')\n",
    "\n",
    "# Configure Spark to use a master URL and set up the application name\n",
    "master_url = \"spark://192.168.106.215:7077\"\n",
    "app_name = \"spark-basic\"\n",
    "\n",
    "# Create a SparkSession with the specified master and app name\n",
    "spark = SparkSession.builder.master(master_url).appName(app_name).getOrCreate()\n",
    "\n",
    "# Load data from a local CSV file\n",
    "df = spark.read.csv('../Dataset/T1.csv', header=True, inferSchema=True)\n",
    "\n",
    "# Remove irrelevant columns\n",
    "# df = df.drop('Date/Time', 'Theoretical_Power_Curve (KWh)')\n",
    "\n",
    "# Define feature and target columns\n",
    "feature_columns = ['Wind Direction (°)', 'Wind Speed (m/s)']\n",
    "target_col = 'LV ActivePower (kW)'\n",
    "\n",
    "# Normalize features\n",
    "assembler = VectorAssembler(inputCols=feature_columns, outputCol='features')\n",
    "scaler = MinMaxScaler(inputCol='features', outputCol='scaled_features')\n",
    "\n",
    "# Define models dictionary\n",
    "models = {\n",
    "    'XGBoost': GBTRegressor(labelCol=target_col),\n",
    "    'Random Forest': RandomForestRegressor(labelCol=target_col),\n",
    "    'Linear Regression': LinearRegression(labelCol=target_col),\n",
    "    'Decision Tree': DecisionTreeRegressor(labelCol=target_col)\n",
    "}\n",
    "\n",
    "# Define evaluator\n",
    "evaluator = RegressionEvaluator(labelCol=target_col, predictionCol=\"prediction\", metricName=\"r2\")\n",
    "\n",
    "# Split data into train and test sets\n",
    "train_data, test_data = df.randomSplit([0.8, 0.2], seed=42)\n",
    "\n",
    "# Parallel processing for model training\n",
    "def fit_pipeline(model, train_data):\n",
    "    pipeline = Pipeline(stages=[assembler, scaler, model])\n",
    "    return pipeline.fit(train_data)\n",
    "\n",
    "\n",
    "\n",
    "for name, model in models.items():\n",
    "    pipeline_model = fit_pipeline(model, train_data)\n",
    "    predictions = pipeline_model.transform(test_data)\n",
    "    r2 = evaluator.evaluate(predictions)\n",
    "    print(f'R2-{name}: {r2}')\n",
    "    predictions.select('LV ActivePower (kW)', 'prediction').show()\n",
    "\n",
    "   \n",
    "\n",
    "# Stop SparkSession\n",
    "# spark.stop()\n",
    "\n",
    "\n"
   ]
  },
  {
   "cell_type": "code",
   "execution_count": 46,
   "metadata": {},
   "outputs": [
    {
     "name": "stdout",
     "output_type": "stream",
     "text": [
      "Requirement already satisfied: requests in c:\\users\\manoj\\appdata\\roaming\\python\\python311\\site-packages (2.28.1)"
     ]
    },
    {
     "name": "stderr",
     "output_type": "stream",
     "text": [
      "DEPRECATION: Loading egg at c:\\python311\\lib\\site-packages\\vboxapi-1.0-py3.11.egg is deprecated. pip 24.3 will enforce this behaviour change. A possible replacement is to use pip for package installation.. Discussion can be found at https://github.com/pypa/pip/issues/12330\n"
     ]
    },
    {
     "name": "stdout",
     "output_type": "stream",
     "text": [
      "\n",
      "Requirement already satisfied: charset-normalizer<3,>=2 in c:\\users\\manoj\\appdata\\roaming\\python\\python311\\site-packages (from requests) (2.1.1)\n",
      "Requirement already satisfied: idna<4,>=2.5 in c:\\python311\\lib\\site-packages (from requests) (3.4)\n",
      "Requirement already satisfied: urllib3<1.27,>=1.21.1 in c:\\python311\\lib\\site-packages (from requests) (1.26.12)\n",
      "Requirement already satisfied: certifi>=2017.4.17 in c:\\users\\manoj\\appdata\\roaming\\python\\python311\\site-packages (from requests) (2022.9.24)\n"
     ]
    }
   ],
   "source": [
    "! pip install requests"
   ]
  },
  {
   "cell_type": "code",
   "execution_count": 50,
   "metadata": {},
   "outputs": [
    {
     "name": "stdout",
     "output_type": "stream",
     "text": [
      "Collecting arrow\n",
      "  Using cached arrow-1.3.0-py3-none-any.whl.metadata (7.5 kB)\n",
      "Requirement already satisfied: python-dateutil>=2.7.0 in c:\\python311\\lib\\site-packages (from arrow) (2.8.2)\n",
      "Collecting types-python-dateutil>=2.8.10 (from arrow)\n",
      "  Using cached types_python_dateutil-2.8.19.20240106-py3-none-any.whl.metadata (1.8 kB)\n",
      "Requirement already satisfied: six>=1.5 in c:\\python311\\lib\\site-packages (from python-dateutil>=2.7.0->arrow) (1.16.0)\n",
      "Using cached arrow-1.3.0-py3-none-any.whl (66 kB)\n",
      "Using cached types_python_dateutil-2.8.19.20240106-py3-none-any.whl (9.7 kB)\n",
      "Installing collected packages: types-python-dateutil, arrow\n",
      "Successfully installed arrow-1.3.0 types-python-dateutil-2.8.19.20240106\n"
     ]
    },
    {
     "name": "stderr",
     "output_type": "stream",
     "text": [
      "DEPRECATION: Loading egg at c:\\python311\\lib\\site-packages\\vboxapi-1.0-py3.11.egg is deprecated. pip 24.3 will enforce this behaviour change. A possible replacement is to use pip for package installation.. Discussion can be found at https://github.com/pypa/pip/issues/12330\n"
     ]
    }
   ],
   "source": [
    "! pip install arrow"
   ]
  },
  {
   "cell_type": "code",
   "execution_count": 68,
   "metadata": {},
   "outputs": [],
   "source": [
    "import requests\n",
    "import arrow\n",
    "import pandas as pd\n",
    "\n",
    "# Specify your custom date range\n",
    "start_date = arrow.get('2024-03-01T00:00:00')  # Replace with your desired start date and time\n",
    "end_date = arrow.get('2024-03-30T23:59:59')    # Replace with your desired end date and time\n",
    "\n",
    "# Make sure to convert the dates to UTC timestamps\n",
    "start_timestamp = start_date.to('UTC').timestamp()\n",
    "end_timestamp = end_date.to('UTC').timestamp()\n",
    "\n",
    "# Specify the API parameters\n",
    "api_params = {\n",
    "    'lat': 38.24,\n",
    "    'lng': 27.5,\n",
    "    'params': ','.join(['windSpeed', 'windDirection']),\n",
    "    'start': start_timestamp,\n",
    "    'end': end_timestamp\n",
    "}\n",
    "\n",
    "# Specify your API key\n",
    "api_key = '086b97d4-dab4-11ee-be1e-0242ac130002-086b982e-dab4-11ee-be1e-0242ac130002'\n",
    "\n",
    "# Make the API request\n",
    "response = requests.get(\n",
    "    'https://api.stormglass.io/v2/weather/point',\n",
    "    params=api_params,\n",
    "    headers={'Authorization': api_key}\n",
    ")\n",
    "\n",
    "data = response.json()['hours']\n",
    "\n",
    "# Create a DataFrame\n",
    "df = pd.DataFrame(data)\n",
    "\n",
    "# Extract relevant columns with respect to the nested structure\n",
    "df = df[['time', 'windSpeed', 'windDirection']]\n",
    "\n",
    "# Extract 'noaa' values from the nested structure\n",
    "df['windSpeed'] = df['windSpeed'].apply(lambda x: x.get('noaa') if isinstance(x, dict) else None)\n",
    "df['windDirection'] = df['windDirection'].apply(lambda x: x.get('noaa') if isinstance(x, dict) else None)\n",
    "\n",
    "# Convert time from string to datetime\n",
    "df['time'] = pd.to_datetime(df['time'], utc=True)\n",
    "final_data=test_data\n",
    "\n",
    "\n",
    "\n"
   ]
  },
  {
   "cell_type": "code",
   "execution_count": 47,
   "metadata": {},
   "outputs": [
    {
     "name": "stdout",
     "output_type": "stream",
     "text": [
      "                         Date  Wind Speed (m/s)  Wind Direction (°)\n",
      "0   2024-03-01 00:00:00+00:00              1.48              125.54\n",
      "1   2024-03-01 01:00:00+00:00              1.12              136.43\n",
      "2   2024-03-01 02:00:00+00:00              0.75              147.32\n",
      "3   2024-03-01 03:00:00+00:00              0.39              158.21\n",
      "4   2024-03-01 04:00:00+00:00              0.78              140.25\n",
      "..                        ...               ...                 ...\n",
      "236 2024-03-10 20:00:00+00:00              2.14              148.65\n",
      "237 2024-03-10 21:00:00+00:00              2.29              140.02\n",
      "238 2024-03-10 22:00:00+00:00              2.20              142.32\n",
      "239 2024-03-10 23:00:00+00:00              2.11              144.62\n",
      "240 2024-03-11 00:00:00+00:00              2.02              146.92\n",
      "\n",
      "[241 rows x 3 columns]\n"
     ]
    }
   ],
   "source": [
    "df=df.rename(columns={\"windSpeed\":\"Wind Speed (m/s)\",\"windDirection\":\"Wind Direction (°)\",\"time\":\"Date\"})\n",
    "# Display the DataFrame\n",
    "print(df)"
   ]
  },
  {
   "cell_type": "code",
   "execution_count": null,
   "metadata": {},
   "outputs": [],
   "source": []
  },
  {
   "cell_type": "code",
   "execution_count": 48,
   "metadata": {},
   "outputs": [],
   "source": [
    "py_spark=spark.createDataFrame(df)"
   ]
  },
  {
   "cell_type": "code",
   "execution_count": 70,
   "metadata": {},
   "outputs": [
    {
     "name": "stdout",
     "output_type": "stream",
     "text": [
      "+----------------+----------------+------------------+--------------------+--------------------+------------------+\n",
      "|       Date/Time|Wind Speed (m/s)|Wind Direction (°)|            features|     scaled_features|        prediction|\n",
      "+----------------+----------------+------------------+--------------------+--------------------+------------------+\n",
      "|01 01 2018 00:20|     5.216036797|       272.5647888|[272.5647888,5.21...|[0.75712948378742...| 306.4857866645647|\n",
      "|01 01 2018 01:00|     5.793007851|       266.1636047|[266.1636047,5.79...|[0.73934829776336...| 493.8577009584026|\n",
      "|01 01 2018 01:20|     5.584629059|       253.4806976|[253.4806976,5.58...|[0.70411776432643...|403.58988842417574|\n",
      "|01 01 2018 02:10|     6.199746132|       266.7331848|[266.7331848,6.19...|[0.74093047530356...| 586.5081952614954|\n",
      "|01 01 2018 03:10|     6.437530994|       257.5602112|[257.5602112,6.43...|[0.71544982243882...| 703.0435799927914|\n",
      "|01 01 2018 03:50|     7.288355827|       255.4445953|[255.4445953,7.28...|[0.70957307224922...| 949.4365999335415|\n",
      "|01 01 2018 04:50|     6.955307007|        245.410202|[245.410202,6.955...|[0.68169957085970...| 809.4933326208605|\n",
      "|01 01 2018 05:50|     7.448554039|       249.6829987|[249.6829987,7.44...|[0.69356853006769...|1110.6376703839064|\n",
      "|01 01 2018 07:30|     6.938295841|       230.1367035|[230.1367035,6.93...|[0.63927290200844...|  810.746932277874|\n",
      "|01 01 2018 07:40|     6.536687851|       234.9338074|[234.9338074,6.53...|[0.65259827985886...| 704.2971796498049|\n",
      "|01 01 2018 07:50|     6.180624962|       232.8379059|[232.8379059,6.18...|[0.64677629225823...| 589.0563373204445|\n",
      "|01 01 2018 08:10|     5.450150967|        238.126297|[238.126297,5.450...|[0.66146636591461...|404.84348808118915|\n",
      "|01 01 2018 08:30|     6.130272865|       224.9586945|[224.9586945,6.13...|[0.62488944734991...| 589.0563373204445|\n",
      "|01 01 2018 09:10|     4.977198124|       207.9978027|[207.9978027,4.97...|[0.57777554349738...| 322.5775659473099|\n",
      "|01 01 2018 10:20|     6.013167858|       234.9006042|[234.9006042,6.01...|[0.65250604813008...| 496.4058430173516|\n",
      "|01 01 2018 11:30|     4.038761139|       224.4649963|[224.4649963,4.03...|[0.62351805427688...| 60.64344500594865|\n",
      "|01 01 2018 12:50|     4.693500996|       229.8966064|[229.8966064,4.69...|[0.63860596115308...|222.73630789401986|\n",
      "|01 01 2018 16:40|     9.614232063|       230.7368927|[230.7368927,9.61...|[0.64094010539583...|2126.3273042460855|\n",
      "|01 01 2018 18:40|     10.55825043|       208.5518951|[208.5518951,10.5...|[0.57931469936057...|2614.1159285101357|\n",
      "|01 01 2018 19:20|     11.56554031|       198.1242981|[198.1242981,11.5...|[0.55034895815639...| 3143.654176106143|\n",
      "+----------------+----------------+------------------+--------------------+--------------------+------------------+\n",
      "only showing top 20 rows\n",
      "\n",
      "+----------------+----------------+------------------+--------------------+--------------------+------------------+\n",
      "|       Date/Time|Wind Speed (m/s)|Wind Direction (°)|            features|     scaled_features|        prediction|\n",
      "+----------------+----------------+------------------+--------------------+--------------------+------------------+\n",
      "|01 01 2018 00:20|     5.216036797|       272.5647888|[272.5647888,5.21...|[0.75712948378742...| 237.0954408870804|\n",
      "|01 01 2018 01:00|     5.793007851|       266.1636047|[266.1636047,5.79...|[0.73934829776336...| 407.0544430642019|\n",
      "|01 01 2018 01:20|     5.584629059|       253.4806976|[253.4806976,5.58...|[0.70411776432643...|344.91956533246264|\n",
      "|01 01 2018 02:10|     6.199746132|       266.7331848|[266.7331848,6.19...|[0.74093047530356...| 552.2994727192457|\n",
      "|01 01 2018 03:10|     6.437530994|       257.5602112|[257.5602112,6.43...|[0.71544982243882...| 721.8250800816646|\n",
      "|01 01 2018 03:50|     7.288355827|       255.4445953|[255.4445953,7.28...|[0.70957307224922...| 762.4376027351295|\n",
      "|01 01 2018 04:50|     6.955307007|        245.410202|[245.410202,6.955...|[0.68169957085970...| 710.4532586246611|\n",
      "|01 01 2018 05:50|     7.448554039|       249.6829987|[249.6829987,7.44...|[0.69356853006769...| 891.0069569237094|\n",
      "|01 01 2018 07:30|     6.938295841|       230.1367035|[230.1367035,6.93...|[0.63927290200844...| 774.8148843547608|\n",
      "|01 01 2018 07:40|     6.536687851|       234.9338074|[234.9338074,6.53...|[0.65259827985886...|  728.875235611206|\n",
      "|01 01 2018 07:50|     6.180624962|       232.8379059|[232.8379059,6.18...|[0.64677629225823...|476.98431121795295|\n",
      "|01 01 2018 08:10|     5.450150967|        238.126297|[238.126297,5.450...|[0.66146636591461...|344.91956533246264|\n",
      "|01 01 2018 08:30|     6.130272865|       224.9586945|[224.9586945,6.13...|[0.62488944734991...|476.98431121795295|\n",
      "|01 01 2018 09:10|     4.977198124|       207.9978027|[207.9978027,4.97...|[0.57777554349738...|364.35636361901345|\n",
      "|01 01 2018 10:20|     6.013167858|       234.9006042|[234.9006042,6.01...|[0.65250604813008...|376.83552632881566|\n",
      "|01 01 2018 11:30|     4.038761139|       224.4649963|[224.4649963,4.03...|[0.62351805427688...|172.75144348458073|\n",
      "|01 01 2018 12:50|     4.693500996|       229.8966064|[229.8966064,4.69...|[0.63860596115308...|212.38464075563297|\n",
      "|01 01 2018 16:40|     9.614232063|       230.7368927|[230.7368927,9.61...|[0.64094010539583...| 2316.353358333207|\n",
      "|01 01 2018 18:40|     10.55825043|       208.5518951|[208.5518951,10.5...|[0.57931469936057...|2565.5245535085896|\n",
      "|01 01 2018 19:20|     11.56554031|       198.1242981|[198.1242981,11.5...|[0.55034895815639...| 3179.937647795725|\n",
      "+----------------+----------------+------------------+--------------------+--------------------+------------------+\n",
      "only showing top 20 rows\n",
      "\n",
      "+----------------+----------------+------------------+--------------------+--------------------+------------------+\n",
      "|       Date/Time|Wind Speed (m/s)|Wind Direction (°)|            features|     scaled_features|        prediction|\n",
      "+----------------+----------------+------------------+--------------------+--------------------+------------------+\n",
      "|01 01 2018 00:20|     5.216036797|       272.5647888|[272.5647888,5.21...|[0.75712948378742...| 656.3844314036619|\n",
      "|01 01 2018 01:00|     5.793007851|       266.1636047|[266.1636047,5.79...|[0.73934829776336...| 819.0742488832277|\n",
      "|01 01 2018 01:20|     5.584629059|       253.4806976|[253.4806976,5.58...|[0.70411776432643...| 759.0589352913412|\n",
      "|01 01 2018 02:10|     6.199746132|       266.7331848|[266.7331848,6.19...|[0.74093047530356...|  934.189615528911|\n",
      "|01 01 2018 03:10|     6.437530994|       257.5602112|[257.5602112,6.43...|[0.71544982243882...|1000.6899724052907|\n",
      "|01 01 2018 03:50|     7.288355827|       255.4445953|[255.4445953,7.28...|[0.70957307224922...|1241.2135285148352|\n",
      "|01 01 2018 04:50|     6.955307007|        245.410202|[245.410202,6.955...|[0.68169957085970...|1146.1509113378092|\n",
      "|01 01 2018 05:50|     7.448554039|       249.6829987|[249.6829987,7.44...|[0.69356853006769...|1286.0506365844708|\n",
      "|01 01 2018 07:30|     6.938295841|       230.1367035|[230.1367035,6.93...|[0.63927290200844...|1140.0567272960132|\n",
      "|01 01 2018 07:40|     6.536687851|       234.9338074|[234.9338074,6.53...|[0.65259827985886...|  1026.84307994433|\n",
      "|01 01 2018 07:50|     6.180624962|       232.8379059|[232.8379059,6.18...|[0.64677629225823...| 925.9358642780694|\n",
      "|01 01 2018 08:10|     5.450150967|        238.126297|[238.126297,5.450...|[0.66146636591461...| 719.7261904407715|\n",
      "|01 01 2018 08:30|     6.130272865|       224.9586945|[224.9586945,6.13...|[0.62488944734991...| 911.0299124562644|\n",
      "|01 01 2018 09:10|     4.977198124|       207.9978027|[207.9978027,4.97...|[0.57777554349738...|   583.39808472286|\n",
      "|01 01 2018 10:20|     6.013167858|       234.9006042|[234.9006042,6.01...|[0.65250604813008...| 878.7348004930859|\n",
      "|01 01 2018 11:30|     4.038761139|       224.4649963|[224.4649963,4.03...|[0.62351805427688...| 319.2930761477853|\n",
      "|01 01 2018 12:50|     4.693500996|       229.8966064|[229.8966064,4.69...|[0.63860596115308...| 504.9768834715078|\n",
      "|01 01 2018 16:40|     9.614232063|       230.7368927|[230.7368927,9.61...|[0.64094010539583...|1897.1380731574818|\n",
      "|01 01 2018 18:40|     10.55825043|       208.5518951|[208.5518951,10.5...|[0.57931469936057...| 2162.342265138103|\n",
      "|01 01 2018 19:20|     11.56554031|       198.1242981|[198.1242981,11.5...|[0.55034895815639...|2446.4327902721875|\n",
      "+----------------+----------------+------------------+--------------------+--------------------+------------------+\n",
      "only showing top 20 rows\n",
      "\n",
      "+----------------+----------------+------------------+--------------------+--------------------+------------------+\n",
      "|       Date/Time|Wind Speed (m/s)|Wind Direction (°)|            features|     scaled_features|        prediction|\n",
      "+----------------+----------------+------------------+--------------------+--------------------+------------------+\n",
      "|01 01 2018 00:20|     5.216036797|       272.5647888|[272.5647888,5.21...|[0.75712948378742...| 300.7132222232867|\n",
      "|01 01 2018 01:00|     5.793007851|       266.1636047|[266.1636047,5.79...|[0.73934829776336...|488.21884248865376|\n",
      "|01 01 2018 01:20|     5.584629059|       253.4806976|[253.4806976,5.58...|[0.70411776432643...|396.91535817897045|\n",
      "|01 01 2018 02:10|     6.199746132|       266.7331848|[266.7331848,6.19...|[0.74093047530356...| 577.4466397097216|\n",
      "|01 01 2018 03:10|     6.437530994|       257.5602112|[257.5602112,6.43...|[0.71544982243882...| 692.9669161601889|\n",
      "|01 01 2018 03:50|     7.288355827|       255.4445953|[255.4445953,7.28...|[0.70957307224922...| 956.6879584138097|\n",
      "|01 01 2018 04:50|     6.955307007|        245.410202|[245.410202,6.955...|[0.68169957085970...| 814.7866443497944|\n",
      "|01 01 2018 05:50|     7.448554039|       249.6829987|[249.6829987,7.44...|[0.69356853006769...|1098.2567473921335|\n",
      "|01 01 2018 07:30|     6.938295841|       230.1367035|[230.1367035,6.93...|[0.63927290200844...| 814.7866443497944|\n",
      "|01 01 2018 07:40|     6.536687851|       234.9338074|[234.9338074,6.53...|[0.65259827985886...| 692.9669161601889|\n",
      "|01 01 2018 07:50|     6.180624962|       232.8379059|[232.8379059,6.18...|[0.64677629225823...| 577.4466397097216|\n",
      "|01 01 2018 08:10|     5.450150967|        238.126297|[238.126297,5.450...|[0.66146636591461...|396.91535817897045|\n",
      "|01 01 2018 08:30|     6.130272865|       224.9586945|[224.9586945,6.13...|[0.62488944734991...| 577.4466397097216|\n",
      "|01 01 2018 09:10|     4.977198124|       207.9978027|[207.9978027,4.97...|[0.57777554349738...| 300.7132222232867|\n",
      "|01 01 2018 10:20|     6.013167858|       234.9006042|[234.9006042,6.01...|[0.65250604813008...|488.21884248865376|\n",
      "|01 01 2018 11:30|     4.038761139|       224.4649963|[224.4649963,4.03...|[0.62351805427688...| 77.11638899720927|\n",
      "|01 01 2018 12:50|     4.693500996|       229.8966064|[229.8966064,4.69...|[0.63860596115308...| 214.9482685039081|\n",
      "|01 01 2018 16:40|     9.614232063|       230.7368927|[230.7368927,9.61...|[0.64094010539583...| 2150.852073088646|\n",
      "|01 01 2018 18:40|     10.55825043|       208.5518951|[208.5518951,10.5...|[0.57931469936057...| 2520.698435974618|\n",
      "|01 01 2018 19:20|     11.56554031|       198.1242981|[198.1242981,11.5...|[0.55034895815639...| 3103.585547910251|\n",
      "+----------------+----------------+------------------+--------------------+--------------------+------------------+\n",
      "only showing top 20 rows\n",
      "\n"
     ]
    }
   ],
   "source": [
    "for name, model in models.items():\n",
    "    pipeline_model = fit_pipeline(model, train_data)\n",
    "    predictions = pipeline_model.transform(final_data)\n",
    "    predictions.select('Date/Time','Wind Speed (m/s)','Wind Direction (°)','features','scaled_features', 'prediction').show()"
   ]
  }
 ],
 "metadata": {
  "kernelspec": {
   "display_name": "Python 3",
   "language": "python",
   "name": "python3"
  },
  "language_info": {
   "codemirror_mode": {
    "name": "ipython",
    "version": 3
   },
   "file_extension": ".py",
   "mimetype": "text/x-python",
   "name": "python",
   "nbconvert_exporter": "python",
   "pygments_lexer": "ipython3",
   "version": "3.11.1"
  }
 },
 "nbformat": 4,
 "nbformat_minor": 2
}
